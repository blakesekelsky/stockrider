{
  "cells": [
    {
      "cell_type": "code",
      "execution_count": 11,
      "metadata": {
        "id": "Y20EY9FKVjwk"
      },
      "outputs": [],
      "source": [
        "import json\n",
        "import yfinance as yf"
      ]
    },
    {
      "cell_type": "code",
      "execution_count": 12,
      "metadata": {
        "id": "cPcMXcggVj9L"
      },
      "outputs": [],
      "source": [
        "# Build the structure of the gamefile\n",
        "label = 'stockrider'\n",
        "creator = 'blake'\n",
        "description = 'generated gamefile'\n",
        "duration = 1200\n",
        "version = '6.2'\n",
        "audio = None\n",
        "startPosition = {\n",
        "    \"x\": 0,\n",
        "    \"y\": 0\n",
        "}\n",
        "riders = [\n",
        "    {\n",
        "        \"startPosition\": {\n",
        "            \"x\": 0,\n",
        "            \"y\": 0\n",
        "        },\n",
        "        \"startVelocity\": {\n",
        "            \"x\": 0.4,\n",
        "            \"y\": 0\n",
        "        },\n",
        "        \"remountable\": 1\n",
        "    }\n",
        "]\n",
        "layers = [\n",
        "    {\n",
        "        \"id\": 0,\n",
        "        \"name\": \"Base Layer\",\n",
        "        \"visible\": True,\n",
        "        \"editable\": True\n",
        "    }\n",
        "]\n",
        "lines = []"
      ]
    },
    {
      "cell_type": "code",
      "execution_count": 13,
      "metadata": {
        "id": "B6-2Ai5yVkCl"
      },
      "outputs": [],
      "source": [
        "# Get the price data from yahoo finance\n",
        "def stock_plots(ticker='aapl', from_date='2020-01-01', to_date='2020-01-30', x_inc=150, y_mult=40):\n",
        "    data = yf.download(ticker, from_date, to_date)\n",
        "    open_close = data[['Open', 'Close']].reset_index(drop=True).values\n",
        "\n",
        "    plots = []\n",
        "    counter = 0\n",
        "    for open, close in open_close:\n",
        "        plots.append([counter+x_inc, -open*y_mult, counter+(x_inc*2), -close*y_mult])\n",
        "        counter = counter + x_inc\n",
        "    return plots"
      ]
    },
    {
      "cell_type": "code",
      "execution_count": 14,
      "metadata": {
        "colab": {
          "base_uri": "https://localhost:8080/"
        },
        "id": "_PINnZ6AiEwJ",
        "outputId": "be4f185c-f22e-497f-b7fd-72a586145f66"
      },
      "outputs": [
        {
          "name": "stdout",
          "output_type": "stream",
          "text": [
            "[*********************100%***********************]  1 of 1 completed\n"
          ]
        }
      ],
      "source": [
        "plots = stock_plots(ticker='nvda', from_date='2021-01-01', to_date='2023-01-01', x_inc=150, y_mult=20)"
      ]
    },
    {
      "cell_type": "code",
      "execution_count": 15,
      "metadata": {
        "id": "Q64Tyc1nfSC-"
      },
      "outputs": [],
      "source": [
        "# Smoothen price data plot\n",
        "# O+C/2 [n][3] + [n+1][1] / 2\n",
        "def smooth_plots(plots):\n",
        "    counter = 0\n",
        "    for plot in plots:\n",
        "        if counter != len(plots)-1:\n",
        "            plots[counter][3] = (plots[counter+1][1] + plots[counter][3]) / 2\n",
        "            plots[counter+1][1] = plots[counter][3]\n",
        "            counter = counter + 1\n",
        "    return plots"
      ]
    },
    {
      "cell_type": "code",
      "execution_count": 16,
      "metadata": {
        "id": "UZEaEEnViHB0"
      },
      "outputs": [],
      "source": [
        "plots = smooth_plots(plots)"
      ]
    },
    {
      "cell_type": "code",
      "execution_count": 17,
      "metadata": {
        "id": "lJwAgQkJVwUR"
      },
      "outputs": [],
      "source": [
        "# Build array of plots\n",
        "def stage_lines(plots):\n",
        "    lines = []\n",
        "    counter = 0\n",
        "    for plot in plots:\n",
        "        data = {\n",
        "            \"id\": counter,\n",
        "            \"type\": 1,\n",
        "            \"x1\": plot[0],\n",
        "            \"y1\": plot[1],\n",
        "            \"x2\": plot[2],\n",
        "            \"y2\": plot[3],\n",
        "            \"flipped\": False,\n",
        "            \"leftExtended\": False,\n",
        "            \"rightExtended\": False\n",
        "        }\n",
        "        lines.append(data)\n",
        "        counter = counter + 1\n",
        "    return lines"
      ]
    },
    {
      "cell_type": "code",
      "execution_count": 18,
      "metadata": {
        "id": "Y4o_Jj_GiJbe"
      },
      "outputs": [],
      "source": [
        "lines = stage_lines(plots)"
      ]
    },
    {
      "cell_type": "code",
      "execution_count": 19,
      "metadata": {
        "id": "ydWNyzrqVwbe"
      },
      "outputs": [],
      "source": [
        "# Save lines array into a game file\n",
        "def save_track(label= label,\n",
        "               creator= creator,\n",
        "               description= description,\n",
        "               versio= version,\n",
        "               audio= audio,\n",
        "               startPosition= startPosition,\n",
        "               riders= [\n",
        "                   {\n",
        "                       \"startPosition\": {\n",
        "                           \"x\": lines[0]['x1'] + 10,\n",
        "                           \"y\": lines[0]['y1'] - 20\n",
        "                       },\n",
        "                       \"startVelocity\":{\n",
        "                           \"x\": 5,\n",
        "                           \"y\": 0\n",
        "                       },\n",
        "                       \"remountable\": 1\n",
        "                   }\n",
        "               ],\n",
        "               layers= layers,\n",
        "               lines= lines,\n",
        "               filename='stockrider.track.json'):\n",
        "    track = {\n",
        "        \"label\": label,\n",
        "        \"creator\": creator,\n",
        "        \"description\": description,\n",
        "        \"version\": version,\n",
        "        \"audio\": audio,\n",
        "        \"startPosition\": startPosition,\n",
        "        \"riders\": riders,\n",
        "        \"layers\": layers,\n",
        "        \"lines\": lines\n",
        "    }\n",
        "\n",
        "    with open(filename, 'w') as outfile:\n",
        "        json.dump(track, outfile)"
      ]
    },
    {
      "cell_type": "code",
      "execution_count": 20,
      "metadata": {
        "id": "UxYSFiuMVg15"
      },
      "outputs": [],
      "source": [
        "save_track(lines=lines, filename='track.json')"
      ]
    }
  ],
  "metadata": {
    "colab": {
      "provenance": []
    },
    "kernelspec": {
      "display_name": "Python 3",
      "name": "python3"
    },
    "language_info": {
      "codemirror_mode": {
        "name": "ipython",
        "version": 3
      },
      "file_extension": ".py",
      "mimetype": "text/x-python",
      "name": "python",
      "nbconvert_exporter": "python",
      "pygments_lexer": "ipython3",
      "version": "3.11.4"
    }
  },
  "nbformat": 4,
  "nbformat_minor": 0
}
